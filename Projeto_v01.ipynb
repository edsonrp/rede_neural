{
 "cells": [
  {
   "cell_type": "markdown",
   "metadata": {},
   "source": [
    "## 01-Importação das Bibliotecas"
   ]
  },
  {
   "cell_type": "code",
   "execution_count": 1,
   "metadata": {},
   "outputs": [],
   "source": [
    "import pandas as pd\n",
    "from sklearn.model_selection import train_test_split\n",
    "import numpy as np\n",
    "import seaborn as sns\n",
    "from sklearn.metrics import confusion_matrix, accuracy_score\n",
    "import torch\n",
    "from torch import nn, optim\n",
    "import torch.nn.functional as F\n",
    "import matplotlib.pyplot as plt\n",
    "from sklearn.preprocessing import OneHotEncoder\n",
    "from sklearn.compose import ColumnTransformer"
   ]
  },
  {
   "cell_type": "markdown",
   "metadata": {},
   "source": [
    "## 02-Base de Dados"
   ]
  },
  {
   "cell_type": "markdown",
   "metadata": {},
   "source": [
    "### 02.1-Base de dados para previsor"
   ]
  },
  {
   "cell_type": "code",
   "execution_count": 190,
   "metadata": {},
   "outputs": [],
   "source": [
    "base_vli = pd.read_excel('/VLI/Projeto/base_nova/Relatório Despesas Cartões Corporativos22.xlsx', sheet_name = 'Main Page_1')\n",
    "new_header = base_vli.iloc[4]\n",
    "new_header.reset_index()\n",
    "base_vli.columns = new_header\n",
    "base_vli = base_vli[5:]\n",
    "base_vli = base_vli.reset_index()\n",
    "columns = ['index','Tipo de Pagamento', 'Último Segmento do Cartão','Número da Conta', 'Nome',\n",
    "           'Moeda da Transação',\n",
    "       'Valor da Transação (Moeda de Reembolso)', 'Moeda de Reembolso',\n",
    "       'Data da Transação', 'Data do Faturamento', 'Data da Carga',\n",
    "       'Número de Referência', 'ID do Relatório de Despesas', 'Status']\n",
    "base_vli.drop(columns, inplace=True, axis=1)\n",
    "df1 = base_vli.groupby(['Matrícula','Fornecedor','Empresa'])['Valor da Transação'].sum()\n",
    "df1 = pd.DataFrame(df1)\n",
    "df1 = df1.add_suffix('').reset_index()\n",
    "df_empregados = pd.read_excel('/VLI/Projeto/base_nova/01 - QL Setembro.xlsx', sheet_name = 'Consolidado QL Setembro')\n",
    "columns = ['EMPRESA','FORÇA DE TRABALHO', 'PCD', 'MATRICULA', 'NOME',\n",
    "       'DATA ADM', 'POSICAO', 'DESC POSICAO', 'CARGO', 'DESC CARGO', 'C CUSTO',\n",
    "       'NOME CC', 'DIRETORIA CC', 'GERENCIA GERAL CC', 'GERENCIA CC',\n",
    "       'SUPERVISAO CC', '\"ID GESTOR', 'NOME GESTOR', 'Classific. Custos',\n",
    "       'GH', 'DESC GH', 'LOTACAO', 'DESC LOT', 'MUNIC ESTABEL',\n",
    "       'ESTABELECIMENTO', 'NOME ESTABELECIMENTO',\n",
    "       'UF ESTABELEC', 'UF LOCAL TRAB',\n",
    "       '\"DESCR. CONTRATO TRABALHO', 'DT VENC CONTRATO', 'JORNADA SEMANAL',\n",
    "       '\"DT NASC', 'GRUPO ETNICO', '% PERIC', '% INSALUBR', '\"ESTABILIDADE',\n",
    "       'INICIO ESTAB', 'FIM ESTAB', 'QTD DIAS ESTAB', '\"MOTIVO AFAST',\n",
    "       'INICIO AFAST', 'FIM AFAST', '\"GH NV 7', 'NOME GH NV 7', 'GH NV 6',\n",
    "       'NOME GH NV 6', 'GH NV 5', 'NOME GH NV 5', 'GH NV 4', 'NOME GH NV 4',\n",
    "       'GH NV 3', 'NOME GH NV 3', 'GH NV 2', 'NOME GH NV 2', 'GH NV 1',\n",
    "       'NOME GH NV 1']\n",
    "df_empregados.drop(columns, inplace=True, axis=1)\n",
    "df_empregados = df_empregados.rename(columns={'ID': 'Matrícula', })   \n",
    "base_vli['Matrícula'] = base_vli['Matrícula'].astype('int64')\n",
    "df = base_vli.merge(df_empregados, on='Matrícula', how='left')\n",
    "df = df.rename(columns={'Empresa': 'EMPRESA', 'Valor da Transação':'VALOR_CARTAO',\n",
    "                        'NAT PROFIS (FUNCAO)':'Cargo', 'MUNIC LOCAL TRAB':'Localidade'}) \n",
    "df = pd.DataFrame(df)\n",
    "columns = ['Matrícula', 'Fornecedor']\n",
    "df.drop(columns, inplace=True, axis=1)\n",
    "df = df.drop(df[df.Localidade == 'LEOPOLDO DE BULHOES'].index)\n",
    "df = df.drop(df[df.Localidade == 'MAIRINQUE'].index)\n",
    "df = df.drop(df[df.Localidade == 'PORTO NACIONAL'].index)\n",
    "df = df.drop(df[df.Localidade == 'RIO DE JANEIRO'].index)\n",
    "df = df.drop(df[df.Localidade == 'SALVADOR'].index)\n",
    "a = {'ADMINISTRATIVO / OPERACIONAL':'ADMINISTRATIVO / OPERACIONAL','ESPECIALISTA':'L2 - GERÊNCIA / COORDENAÇÃO',\n",
    "     'L1 - SUPERVISOR':'L1 - SUPERVISOR','L2 - GERÊNCIA / COORDENAÇÃO':'L2 - GERÊNCIA / COORDENAÇÃO', 'L3 - GER.GERAL./ COORD.EXEC':'L2 - GERÊNCIA / COORDENAÇÃO',\n",
    "    'L4 - DIR.DEPTO/COORDADMSUP':'L2 - GERÊNCIA / COORDENAÇÃO', 'L5 - DIRETORIA':'L2 - GERÊNCIA / COORDENAÇÃO',\n",
    "    'L7 - PRESIDÊNCIA':'L2 - GERÊNCIA / COORDENAÇÃO','NIVEL TECNICO':'NIVEL TECNICO',\n",
    "     'TECNICO PROFISSIONAL':'TECNICO PROFISSIONAL','TT - CARREIRA TECNICA':'TT - CARREIRA TECNICA',\n",
    "     'TS - CARREIRA TECNICA':'TT - CARREIRA TECNICA'}\n",
    "df['Cargo'] = df['Cargo'].map(a)\n",
    "df = df[df['SEXO'].notnull()]\n",
    "b = {'Ferrovia Centro Atlântica':'Ferrovia Centro Atlântica','VLI Multimodal':'VLI Multimodal',\n",
    "    'Ferrovia Norte Sul':'Ferrovia Norte Sul','UltraFertil':'UltraFertil', 'VLI':'VLI Multimodal'}\n",
    "df['EMPRESA'] = df['EMPRESA'].map(b)\n",
    "previsores = df.iloc[:, 0:5].values\n",
    "onehotencoder = ColumnTransformer(transformers = [(\"OneHot\", OneHotEncoder(),\n",
    "                                                   [0,2,3,4])], \n",
    "                                  remainder = 'passthrough')\n",
    "previsores = onehotencoder.fit_transform(previsores).toarray()"
   ]
  },
  {
   "cell_type": "markdown",
   "metadata": {},
   "source": [
    "### 02.2-Base de dados para treino"
   ]
  },
  {
   "cell_type": "code",
   "execution_count": 193,
   "metadata": {},
   "outputs": [],
   "source": [
    "np.random.seed(123)\n",
    "torch.manual_seed(123)\n",
    "base = pd.read_excel('/VLI/Projeto/Base_py_v03.xlsx', sheet_name = 'Sheet1')\n",
    "columns = ['MATR_EMPREGADO', 'NOME GH NV 5', 'Diretoria']\n",
    "base.drop(columns, inplace=True, axis=1)\n",
    "base = base.drop(base[base.Localidade == 'BRASILIA'].index)\n",
    "previsores = base.iloc[:, 0:5].values\n",
    "classe = base.iloc[:, 5].values\n",
    "onehotencoder = ColumnTransformer(transformers = [(\"OneHot\", OneHotEncoder(),\n",
    "                                                   [0,2,3,4])], \n",
    "                                  remainder = 'passthrough')\n",
    "previsores = onehotencoder.fit_transform(previsores).toarray()"
   ]
  },
  {
   "cell_type": "markdown",
   "metadata": {},
   "source": [
    "## Construção do modelo"
   ]
  },
  {
   "cell_type": "code",
   "execution_count": 194,
   "metadata": {},
   "outputs": [],
   "source": [
    "class classificador_torch(nn.Module):\n",
    "    def __init__(self):\n",
    "        super().__init__()\n",
    "        self.dense0 = nn.Linear(61, 62)\n",
    "        torch.nn.init.normal_(self.dense0.weight, mean = 0.0, std= 0.05)\n",
    "        self.activation0 = torch.tanh\n",
    "        self.Dropout0 = nn.Dropout(0.3)       \n",
    "        self.dense1 = nn.Linear(62, 62)\n",
    "        torch.nn.init.normal_(self.dense1.weight, mean = 0.0, std= 0.05)\n",
    "        self.activation1 = torch.tanh\n",
    "        self.Dropout1 = nn.Dropout(0.3)\n",
    "        self.dense2 = nn.Linear(62, 31)\n",
    "        torch.nn.init.normal_(self.dense2.weight, mean = 0.0, std= 0.05)\n",
    "        self.activation2 = torch.tanh\n",
    "        self.Dropout2 = nn.Dropout(0.3)      \n",
    "        self.dense3 = nn.Linear(31, 15)\n",
    "        torch.nn.init.normal_(self.dense3.weight, mean = 0.0, std= 0.05)\n",
    "        self.activation3 = torch.tanh\n",
    "        self.Dropout3 = nn.Dropout(0.3)      \n",
    "        self.dense4 = nn.Linear(15, 31)\n",
    "        torch.nn.init.normal_(self.dense4.weight, mean = 0.0, std= 0.05)\n",
    "        self.activation4 = torch.tanh\n",
    "        self.Dropout4 = nn.Dropout(0.3)\n",
    "        self.dense5 = nn.Linear(31, 62)\n",
    "        torch.nn.init.normal_(self.dense5.weight, mean = 0.0, std= 0.05)\n",
    "        self.activation5 = torch.tanh\n",
    "        self.Dropout5 = nn.Dropout(0.3)     \n",
    "        self.dense6 = nn.Linear(62, 1)\n",
    "        torch.nn.init.normal_(self.dense6.weight, mean = 0.0, std= 0.05)\n",
    "        self.activation6 = nn.Sigmoid()\n",
    "    def forward(self, X):\n",
    "        X = self.dense0(X)\n",
    "        X = self.activation0(X)\n",
    "        X = self.Dropout0(X) \n",
    "        X = self.dense1(X)\n",
    "        X = self.activation1(X)\n",
    "        X = self.Dropout1(X)\n",
    "        X = self.dense2(X)\n",
    "        X = self.activation2(X)\n",
    "        X = self.Dropout2(X)\n",
    "        X = self.dense3(X)\n",
    "        X = self.activation3(X)\n",
    "        X = self.Dropout3(X)     \n",
    "        X = self.dense4(X)\n",
    "        X = self.activation4(X)\n",
    "        X = self.Dropout4(X)                \n",
    "        X = self.dense5(X)\n",
    "        X = self.activation5(X)\n",
    "        X = self.Dropout5(X)\n",
    "        X = self.dense6(X)\n",
    "        X = self.activation6(X)\n",
    "        return X"
   ]
  },
  {
   "cell_type": "code",
   "execution_count": 195,
   "metadata": {},
   "outputs": [],
   "source": [
    "classificador = classificador_torch()"
   ]
  },
  {
   "cell_type": "code",
   "execution_count": 196,
   "metadata": {},
   "outputs": [],
   "source": [
    "criterion = nn.MSELoss()\n",
    "optimizer = optim.Adam(classificador.parameters())"
   ]
  },
  {
   "cell_type": "code",
   "execution_count": 197,
   "metadata": {},
   "outputs": [],
   "source": [
    "previsores = torch.tensor(previsores, dtype=torch.float)\n",
    "classe = torch.tensor(classe, dtype=torch.float)"
   ]
  },
  {
   "cell_type": "code",
   "execution_count": 423,
   "metadata": {},
   "outputs": [],
   "source": [
    "dataset = torch.utils.data.TensorDataset(previsores, classe)\n",
    "train_loader = torch.utils.data.DataLoader(dataset, batch_size = 2300, shuffle = False)"
   ]
  },
  {
   "cell_type": "markdown",
   "metadata": {},
   "source": [
    "## Treinamento do modelo"
   ]
  },
  {
   "cell_type": "code",
   "execution_count": 424,
   "metadata": {},
   "outputs": [
    {
     "data": {
      "text/plain": [
       "'cpu'"
      ]
     },
     "execution_count": 424,
     "metadata": {},
     "output_type": "execute_result"
    }
   ],
   "source": [
    "device = 'cuda' if torch.cuda.is_available() else 'cpu'\n",
    "device"
   ]
  },
  {
   "cell_type": "code",
   "execution_count": 425,
   "metadata": {},
   "outputs": [
    {
     "data": {
      "text/plain": [
       "classificador_torch(\n",
       "  (dense0): Linear(in_features=61, out_features=62, bias=True)\n",
       "  (Dropout0): Dropout(p=0.3, inplace=False)\n",
       "  (dense1): Linear(in_features=62, out_features=62, bias=True)\n",
       "  (Dropout1): Dropout(p=0.3, inplace=False)\n",
       "  (dense2): Linear(in_features=62, out_features=31, bias=True)\n",
       "  (Dropout2): Dropout(p=0.3, inplace=False)\n",
       "  (dense3): Linear(in_features=31, out_features=15, bias=True)\n",
       "  (Dropout3): Dropout(p=0.3, inplace=False)\n",
       "  (dense4): Linear(in_features=15, out_features=31, bias=True)\n",
       "  (Dropout4): Dropout(p=0.3, inplace=False)\n",
       "  (dense5): Linear(in_features=31, out_features=62, bias=True)\n",
       "  (Dropout5): Dropout(p=0.3, inplace=False)\n",
       "  (dense6): Linear(in_features=62, out_features=1, bias=True)\n",
       "  (activation6): Sigmoid()\n",
       ")"
      ]
     },
     "execution_count": 425,
     "metadata": {},
     "output_type": "execute_result"
    }
   ],
   "source": [
    "classificador.to(device)"
   ]
  },
  {
   "cell_type": "code",
   "execution_count": 426,
   "metadata": {
    "scrolled": false
   },
   "outputs": [
    {
     "name": "stdout",
     "output_type": "stream",
     "text": [
      "ÉPOCA    1 finalizada: erro 0.0179 - custo 0.0179         \n",
      "ÉPOCA    2 finalizada: erro 0.0177 - custo 0.0177         \n",
      "ÉPOCA    3 finalizada: erro 0.0171 - custo 0.0171         \n",
      "ÉPOCA    4 finalizada: erro 0.0172 - custo 0.0172         \n",
      "ÉPOCA    5 finalizada: erro 0.0173 - custo 0.0173         \n",
      "ÉPOCA    6 finalizada: erro 0.0170 - custo 0.0170         \n",
      "ÉPOCA    7 finalizada: erro 0.0171 - custo 0.0171         \n",
      "ÉPOCA    8 finalizada: erro 0.0170 - custo 0.0170         \n",
      "ÉPOCA    9 finalizada: erro 0.0171 - custo 0.0171         \n",
      "ÉPOCA   10 finalizada: erro 0.0174 - custo 0.0174         \n",
      "ÉPOCA   11 finalizada: erro 0.0173 - custo 0.0173         \n",
      "ÉPOCA   12 finalizada: erro 0.0179 - custo 0.0179         \n",
      "ÉPOCA   13 finalizada: erro 0.0184 - custo 0.0184         \n",
      "ÉPOCA   14 finalizada: erro 0.0184 - custo 0.0184         \n",
      "ÉPOCA   15 finalizada: erro 0.0188 - custo 0.0188         \n",
      "ÉPOCA   16 finalizada: erro 0.0179 - custo 0.0179         \n",
      "ÉPOCA   17 finalizada: erro 0.0186 - custo 0.0186         \n",
      "ÉPOCA   18 finalizada: erro 0.0176 - custo 0.0176         \n",
      "ÉPOCA   19 finalizada: erro 0.0174 - custo 0.0174         \n",
      "ÉPOCA   20 finalizada: erro 0.0175 - custo 0.0175         \n",
      "ÉPOCA   21 finalizada: erro 0.0176 - custo 0.0176         \n",
      "ÉPOCA   22 finalizada: erro 0.0168 - custo 0.0168         \n",
      "ÉPOCA   23 finalizada: erro 0.0171 - custo 0.0171         \n",
      "ÉPOCA   24 finalizada: erro 0.0167 - custo 0.0167         \n",
      "ÉPOCA   25 finalizada: erro 0.0168 - custo 0.0168         \n",
      "ÉPOCA   26 finalizada: erro 0.0168 - custo 0.0168         \n",
      "ÉPOCA   27 finalizada: erro 0.0169 - custo 0.0169         \n",
      "ÉPOCA   28 finalizada: erro 0.0168 - custo 0.0168         \n",
      "ÉPOCA   29 finalizada: erro 0.0170 - custo 0.0170         \n",
      "ÉPOCA   30 finalizada: erro 0.0167 - custo 0.0167         \n",
      "ÉPOCA   31 finalizada: erro 0.0166 - custo 0.0166         \n",
      "ÉPOCA   32 finalizada: erro 0.0168 - custo 0.0168         \n",
      "ÉPOCA   33 finalizada: erro 0.0168 - custo 0.0168         \n",
      "ÉPOCA   34 finalizada: erro 0.0157 - custo 0.0157         \n",
      "ÉPOCA   35 finalizada: erro 0.0170 - custo 0.0170         \n",
      "ÉPOCA   36 finalizada: erro 0.0172 - custo 0.0172         \n",
      "ÉPOCA   37 finalizada: erro 0.0166 - custo 0.0166         \n",
      "ÉPOCA   38 finalizada: erro 0.0167 - custo 0.0167         \n",
      "ÉPOCA   39 finalizada: erro 0.0166 - custo 0.0166         \n",
      "ÉPOCA   40 finalizada: erro 0.0169 - custo 0.0169         \n",
      "ÉPOCA   41 finalizada: erro 0.0166 - custo 0.0166         \n",
      "ÉPOCA   42 finalizada: erro 0.0166 - custo 0.0166         \n",
      "ÉPOCA   43 finalizada: erro 0.0169 - custo 0.0169         \n",
      "ÉPOCA   44 finalizada: erro 0.0162 - custo 0.0162         \n",
      "ÉPOCA   45 finalizada: erro 0.0167 - custo 0.0167         \n",
      "ÉPOCA   46 finalizada: erro 0.0180 - custo 0.0180         \n",
      "ÉPOCA   47 finalizada: erro 0.0166 - custo 0.0166         \n",
      "ÉPOCA   48 finalizada: erro 0.0168 - custo 0.0168         \n",
      "ÉPOCA   49 finalizada: erro 0.0169 - custo 0.0169         \n",
      "ÉPOCA   50 finalizada: erro 0.0163 - custo 0.0163         \n",
      "ÉPOCA   51 finalizada: erro 0.0160 - custo 0.0160         \n",
      "ÉPOCA   52 finalizada: erro 0.0160 - custo 0.0160         \n",
      "ÉPOCA   53 finalizada: erro 0.0162 - custo 0.0162         \n",
      "ÉPOCA   54 finalizada: erro 0.0164 - custo 0.0164         \n",
      "ÉPOCA   55 finalizada: erro 0.0166 - custo 0.0166         \n",
      "ÉPOCA   56 finalizada: erro 0.0172 - custo 0.0172         \n",
      "ÉPOCA   57 finalizada: erro 0.0166 - custo 0.0166         \n",
      "ÉPOCA   58 finalizada: erro 0.0164 - custo 0.0164         \n",
      "ÉPOCA   59 finalizada: erro 0.0163 - custo 0.0163         \n",
      "ÉPOCA   60 finalizada: erro 0.0160 - custo 0.0160         \n",
      "ÉPOCA   61 finalizada: erro 0.0157 - custo 0.0157         \n",
      "ÉPOCA   62 finalizada: erro 0.0157 - custo 0.0157         \n",
      "ÉPOCA   63 finalizada: erro 0.0157 - custo 0.0157         \n",
      "ÉPOCA   64 finalizada: erro 0.0158 - custo 0.0158         \n",
      "ÉPOCA   65 finalizada: erro 0.0159 - custo 0.0159         \n",
      "ÉPOCA   66 finalizada: erro 0.0154 - custo 0.0154         \n",
      "ÉPOCA   67 finalizada: erro 0.0155 - custo 0.0155         \n",
      "ÉPOCA   68 finalizada: erro 0.0153 - custo 0.0153         \n",
      "ÉPOCA   69 finalizada: erro 0.0157 - custo 0.0157         \n",
      "ÉPOCA   70 finalizada: erro 0.0163 - custo 0.0163         \n",
      "ÉPOCA   71 finalizada: erro 0.0164 - custo 0.0164         \n",
      "ÉPOCA   72 finalizada: erro 0.0179 - custo 0.0179         \n",
      "ÉPOCA   73 finalizada: erro 0.0177 - custo 0.0177         \n",
      "ÉPOCA   74 finalizada: erro 0.0172 - custo 0.0172         \n",
      "ÉPOCA   75 finalizada: erro 0.0174 - custo 0.0174         \n",
      "ÉPOCA   76 finalizada: erro 0.0181 - custo 0.0181         \n",
      "ÉPOCA   77 finalizada: erro 0.0173 - custo 0.0173         \n",
      "ÉPOCA   78 finalizada: erro 0.0179 - custo 0.0179         \n",
      "ÉPOCA   79 finalizada: erro 0.0200 - custo 0.0200         \n",
      "ÉPOCA   80 finalizada: erro 0.0186 - custo 0.0186         \n",
      "ÉPOCA   81 finalizada: erro 0.0172 - custo 0.0172         \n",
      "ÉPOCA   82 finalizada: erro 0.0188 - custo 0.0188         \n",
      "ÉPOCA   83 finalizada: erro 0.0174 - custo 0.0174         \n",
      "ÉPOCA   84 finalizada: erro 0.0180 - custo 0.0180         \n",
      "ÉPOCA   85 finalizada: erro 0.0185 - custo 0.0185         \n",
      "ÉPOCA   86 finalizada: erro 0.0173 - custo 0.0173         \n",
      "ÉPOCA   87 finalizada: erro 0.0200 - custo 0.0200         \n",
      "ÉPOCA   88 finalizada: erro 0.0187 - custo 0.0187         \n",
      "ÉPOCA   89 finalizada: erro 0.0195 - custo 0.0195         \n",
      "ÉPOCA   90 finalizada: erro 0.0192 - custo 0.0192         \n",
      "ÉPOCA   91 finalizada: erro 0.0191 - custo 0.0191         \n",
      "ÉPOCA   92 finalizada: erro 0.0189 - custo 0.0189         \n",
      "ÉPOCA   93 finalizada: erro 0.0179 - custo 0.0179         \n",
      "ÉPOCA   94 finalizada: erro 0.0187 - custo 0.0187         \n",
      "ÉPOCA   95 finalizada: erro 0.0180 - custo 0.0180         \n",
      "ÉPOCA   96 finalizada: erro 0.0177 - custo 0.0177         \n",
      "ÉPOCA   97 finalizada: erro 0.0177 - custo 0.0177         \n",
      "ÉPOCA   98 finalizada: erro 0.0168 - custo 0.0168         \n",
      "ÉPOCA   99 finalizada: erro 0.0171 - custo 0.0171         \n",
      "ÉPOCA  100 finalizada: erro 0.0170 - custo 0.0170         \n",
      "ÉPOCA  101 finalizada: erro 0.0172 - custo 0.0172         \n",
      "ÉPOCA  102 finalizada: erro 0.0171 - custo 0.0171         \n",
      "ÉPOCA  103 finalizada: erro 0.0166 - custo 0.0166         \n",
      "ÉPOCA  104 finalizada: erro 0.0167 - custo 0.0167         \n",
      "ÉPOCA  105 finalizada: erro 0.0162 - custo 0.0162         \n",
      "ÉPOCA  106 finalizada: erro 0.0162 - custo 0.0162         \n",
      "ÉPOCA  107 finalizada: erro 0.0159 - custo 0.0159         \n",
      "ÉPOCA  108 finalizada: erro 0.0157 - custo 0.0157         \n",
      "ÉPOCA  109 finalizada: erro 0.0156 - custo 0.0156         \n",
      "ÉPOCA  110 finalizada: erro 0.0156 - custo 0.0156         \n",
      "ÉPOCA  111 finalizada: erro 0.0160 - custo 0.0160         \n",
      "ÉPOCA  112 finalizada: erro 0.0163 - custo 0.0163         \n",
      "ÉPOCA  113 finalizada: erro 0.0164 - custo 0.0164         \n",
      "ÉPOCA  114 finalizada: erro 0.0163 - custo 0.0163         \n",
      "ÉPOCA  115 finalizada: erro 0.0195 - custo 0.0195         \n",
      "ÉPOCA  116 finalizada: erro 0.0167 - custo 0.0167         \n",
      "ÉPOCA  117 finalizada: erro 0.0169 - custo 0.0169         \n",
      "ÉPOCA  118 finalizada: erro 0.0172 - custo 0.0172         \n",
      "ÉPOCA  119 finalizada: erro 0.0175 - custo 0.0175         \n",
      "ÉPOCA  120 finalizada: erro 0.0176 - custo 0.0176         \n",
      "ÉPOCA  121 finalizada: erro 0.0173 - custo 0.0173         \n",
      "ÉPOCA  122 finalizada: erro 0.0168 - custo 0.0168         \n",
      "ÉPOCA  123 finalizada: erro 0.0173 - custo 0.0173         \n",
      "ÉPOCA  124 finalizada: erro 0.0185 - custo 0.0185         \n",
      "ÉPOCA  125 finalizada: erro 0.0179 - custo 0.0179         \n",
      "ÉPOCA  126 finalizada: erro 0.0171 - custo 0.0171         \n",
      "ÉPOCA  127 finalizada: erro 0.0169 - custo 0.0169         \n",
      "ÉPOCA  128 finalizada: erro 0.0182 - custo 0.0182         \n",
      "ÉPOCA  129 finalizada: erro 0.0169 - custo 0.0169         \n",
      "ÉPOCA  130 finalizada: erro 0.0167 - custo 0.0167         \n",
      "ÉPOCA  131 finalizada: erro 0.0163 - custo 0.0163         \n",
      "ÉPOCA  132 finalizada: erro 0.0170 - custo 0.0170         \n",
      "ÉPOCA  133 finalizada: erro 0.0162 - custo 0.0162         \n",
      "ÉPOCA  134 finalizada: erro 0.0156 - custo 0.0156         \n",
      "ÉPOCA  135 finalizada: erro 0.0163 - custo 0.0163         \n",
      "ÉPOCA  136 finalizada: erro 0.0157 - custo 0.0157         \n",
      "ÉPOCA  137 finalizada: erro 0.0157 - custo 0.0157         \n",
      "ÉPOCA  138 finalizada: erro 0.0156 - custo 0.0156         \n"
     ]
    },
    {
     "name": "stdout",
     "output_type": "stream",
     "text": [
      "ÉPOCA  139 finalizada: erro 0.0157 - custo 0.0157         \n",
      "ÉPOCA  140 finalizada: erro 0.0155 - custo 0.0155         \n",
      "ÉPOCA  141 finalizada: erro 0.0156 - custo 0.0156         \n",
      "ÉPOCA  142 finalizada: erro 0.0156 - custo 0.0156         \n",
      "ÉPOCA  143 finalizada: erro 0.0155 - custo 0.0155         \n",
      "ÉPOCA  144 finalizada: erro 0.0157 - custo 0.0157         \n",
      "ÉPOCA  145 finalizada: erro 0.0155 - custo 0.0155         \n",
      "ÉPOCA  146 finalizada: erro 0.0153 - custo 0.0153         \n",
      "ÉPOCA  147 finalizada: erro 0.0159 - custo 0.0159         \n",
      "ÉPOCA  148 finalizada: erro 0.0160 - custo 0.0160         \n",
      "ÉPOCA  149 finalizada: erro 0.0166 - custo 0.0166         \n",
      "ÉPOCA  150 finalizada: erro 0.0161 - custo 0.0161         \n",
      "ÉPOCA  151 finalizada: erro 0.0170 - custo 0.0170         \n",
      "ÉPOCA  152 finalizada: erro 0.0157 - custo 0.0157         \n",
      "ÉPOCA  153 finalizada: erro 0.0161 - custo 0.0161         \n",
      "ÉPOCA  154 finalizada: erro 0.0156 - custo 0.0156         \n",
      "ÉPOCA  155 finalizada: erro 0.0161 - custo 0.0161         \n",
      "ÉPOCA  156 finalizada: erro 0.0168 - custo 0.0168         \n",
      "ÉPOCA  157 finalizada: erro 0.0162 - custo 0.0162         \n",
      "ÉPOCA  158 finalizada: erro 0.0160 - custo 0.0160         \n",
      "ÉPOCA  159 finalizada: erro 0.0156 - custo 0.0156         \n",
      "ÉPOCA  160 finalizada: erro 0.0157 - custo 0.0157         \n",
      "ÉPOCA  161 finalizada: erro 0.0153 - custo 0.0153         \n",
      "ÉPOCA  162 finalizada: erro 0.0155 - custo 0.0155         \n",
      "ÉPOCA  163 finalizada: erro 0.0163 - custo 0.0163         \n",
      "ÉPOCA  164 finalizada: erro 0.0172 - custo 0.0172         \n",
      "ÉPOCA  165 finalizada: erro 0.0174 - custo 0.0174         \n",
      "ÉPOCA  166 finalizada: erro 0.0176 - custo 0.0176         \n",
      "ÉPOCA  167 finalizada: erro 0.0169 - custo 0.0169         \n",
      "ÉPOCA  168 finalizada: erro 0.0171 - custo 0.0171         \n",
      "ÉPOCA  169 finalizada: erro 0.0165 - custo 0.0165         \n",
      "ÉPOCA  170 finalizada: erro 0.0166 - custo 0.0166         \n",
      "ÉPOCA  171 finalizada: erro 0.0158 - custo 0.0158         \n",
      "ÉPOCA  172 finalizada: erro 0.0160 - custo 0.0160         \n",
      "ÉPOCA  173 finalizada: erro 0.0155 - custo 0.0155         \n",
      "ÉPOCA  174 finalizada: erro 0.0154 - custo 0.0154         \n",
      "ÉPOCA  175 finalizada: erro 0.0156 - custo 0.0156         \n",
      "ÉPOCA  176 finalizada: erro 0.0165 - custo 0.0165         \n",
      "ÉPOCA  177 finalizada: erro 0.0164 - custo 0.0164         \n",
      "ÉPOCA  178 finalizada: erro 0.0187 - custo 0.0187         \n",
      "ÉPOCA  179 finalizada: erro 0.0164 - custo 0.0164         \n",
      "ÉPOCA  180 finalizada: erro 0.0162 - custo 0.0162         \n",
      "ÉPOCA  181 finalizada: erro 0.0171 - custo 0.0171         \n",
      "ÉPOCA  182 finalizada: erro 0.0170 - custo 0.0170         \n",
      "ÉPOCA  183 finalizada: erro 0.0168 - custo 0.0168         \n",
      "ÉPOCA  184 finalizada: erro 0.0166 - custo 0.0166         \n",
      "ÉPOCA  185 finalizada: erro 0.0161 - custo 0.0161         \n",
      "ÉPOCA  186 finalizada: erro 0.0172 - custo 0.0172         \n",
      "ÉPOCA  187 finalizada: erro 0.0168 - custo 0.0168         \n",
      "ÉPOCA  188 finalizada: erro 0.0172 - custo 0.0172         \n",
      "ÉPOCA  189 finalizada: erro 0.0165 - custo 0.0165         \n",
      "ÉPOCA  190 finalizada: erro 0.0184 - custo 0.0184         \n",
      "ÉPOCA  191 finalizada: erro 0.0175 - custo 0.0175         \n",
      "ÉPOCA  192 finalizada: erro 0.0168 - custo 0.0168         \n",
      "ÉPOCA  193 finalizada: erro 0.0164 - custo 0.0164         \n",
      "ÉPOCA  194 finalizada: erro 0.0164 - custo 0.0164         \n",
      "ÉPOCA  195 finalizada: erro 0.0162 - custo 0.0162         \n",
      "ÉPOCA  196 finalizada: erro 0.0158 - custo 0.0158         \n",
      "ÉPOCA  197 finalizada: erro 0.0156 - custo 0.0156         \n",
      "ÉPOCA  198 finalizada: erro 0.0156 - custo 0.0156         \n",
      "ÉPOCA  199 finalizada: erro 0.0154 - custo 0.0154         \n",
      "ÉPOCA  200 finalizada: erro 0.0155 - custo 0.0155         \n"
     ]
    }
   ],
   "source": [
    "for epoch in range(200): # testado com 4000 achados 82 indicios, 8000 achados 88 indicios\n",
    "    running_loss = 0.\n",
    "    running_mse = 0.\n",
    "    for i, data in enumerate(train_loader):\n",
    "        inputs, labels = data\n",
    "        inputs, labels = inputs.to(device), labels.to(device)\n",
    "        optimizer.zero_grad()\n",
    "        outputs = classificador.forward(inputs)\n",
    "        \n",
    "        mse =  F.mse_loss(outputs, labels.unsqueeze(1)).item()\n",
    "        running_mse += mse * len(inputs)\n",
    "        \n",
    "        loss = criterion(outputs, labels.unsqueeze(1))\n",
    "        loss.backward()\n",
    "        optimizer.step()\n",
    "        loss = loss.item()\n",
    "        running_loss += loss * len(inputs)\n",
    "       \n",
    "        print('\\rÉpoca {:4d} - Loop {:3d} de {:3d}: erro {:6.4f} - custo {:6.4f}'.format(epoch + 1,\n",
    "                      i + 1,\n",
    "                      len(train_loader),\n",
    "                      mse,\n",
    "                      loss), end = '\\r')\n",
    "\n",
    "    print('ÉPOCA {:4d} finalizada: erro {:6.4f} - custo {:6.4f}         '.format(epoch + 1, \n",
    "         running_mse/len(dataset),  \n",
    "         running_loss/len(dataset)))"
   ]
  },
  {
   "cell_type": "code",
   "execution_count": 427,
   "metadata": {
    "scrolled": true
   },
   "outputs": [
    {
     "data": {
      "text/plain": [
       "classificador_torch(\n",
       "  (dense0): Linear(in_features=61, out_features=62, bias=True)\n",
       "  (Dropout0): Dropout(p=0.3, inplace=False)\n",
       "  (dense1): Linear(in_features=62, out_features=62, bias=True)\n",
       "  (Dropout1): Dropout(p=0.3, inplace=False)\n",
       "  (dense2): Linear(in_features=62, out_features=31, bias=True)\n",
       "  (Dropout2): Dropout(p=0.3, inplace=False)\n",
       "  (dense3): Linear(in_features=31, out_features=15, bias=True)\n",
       "  (Dropout3): Dropout(p=0.3, inplace=False)\n",
       "  (dense4): Linear(in_features=15, out_features=31, bias=True)\n",
       "  (Dropout4): Dropout(p=0.3, inplace=False)\n",
       "  (dense5): Linear(in_features=31, out_features=62, bias=True)\n",
       "  (Dropout5): Dropout(p=0.3, inplace=False)\n",
       "  (dense6): Linear(in_features=62, out_features=1, bias=True)\n",
       "  (activation6): Sigmoid()\n",
       ")"
      ]
     },
     "execution_count": 427,
     "metadata": {},
     "output_type": "execute_result"
    }
   ],
   "source": [
    "classificador.eval()"
   ]
  },
  {
   "cell_type": "code",
   "execution_count": 428,
   "metadata": {},
   "outputs": [],
   "source": [
    "previsores = previsores.to(device)\n",
    "previsoes = classificador.forward(previsores)"
   ]
  },
  {
   "cell_type": "code",
   "execution_count": 429,
   "metadata": {},
   "outputs": [],
   "source": [
    "previsoes = previsoes.cpu().detach().numpy()"
   ]
  },
  {
   "cell_type": "code",
   "execution_count": 430,
   "metadata": {},
   "outputs": [
    {
     "data": {
      "text/plain": [
       "array([0.02940197], dtype=float32)"
      ]
     },
     "execution_count": 430,
     "metadata": {},
     "output_type": "execute_result"
    }
   ],
   "source": [
    "previsoes.mean(axis = 0)"
   ]
  },
  {
   "cell_type": "code",
   "execution_count": 431,
   "metadata": {},
   "outputs": [
    {
     "data": {
      "text/plain": [
       "tensor(0.0271)"
      ]
     },
     "execution_count": 431,
     "metadata": {},
     "output_type": "execute_result"
    }
   ],
   "source": [
    "classe.mean(axis = 0)"
   ]
  },
  {
   "cell_type": "code",
   "execution_count": 432,
   "metadata": {},
   "outputs": [
    {
     "data": {
      "text/plain": [
       "Text(0.5, 1.0, 'Indicio')"
      ]
     },
     "execution_count": 432,
     "metadata": {},
     "output_type": "execute_result"
    },
    {
     "data": {
      "image/png": "[encoded data removed]",
      "text/plain": [
       "<Figure size 1296x648 with 1 Axes>"
      ]
     },
     "metadata": {
      "needs_background": "light"
     },
     "output_type": "display_data"
    }
   ],
   "source": [
    "fig, ax = plt.subplots(1, 1, figsize=(18,9))\n",
    "ax.plot(classe[:])\n",
    "ax.plot(previsoes[:])\n",
    "ax.legend(['Valores reais', 'Previsões'])\n",
    "ax.set_title(base.columns[5])"
   ]
  },
  {
   "cell_type": "code",
   "execution_count": 433,
   "metadata": {},
   "outputs": [],
   "source": [
    "from sklearn.metrics import confusion_matrix, accuracy_score"
   ]
  },
  {
   "cell_type": "code",
   "execution_count": 434,
   "metadata": {},
   "outputs": [],
   "source": [
    "import seaborn as sns"
   ]
  },
  {
   "cell_type": "code",
   "execution_count": 435,
   "metadata": {},
   "outputs": [
    {
     "data": {
      "text/plain": [
       "array([[False],\n",
       "       [False],\n",
       "       [False],\n",
       "       ...,\n",
       "       [False],\n",
       "       [False],\n",
       "       [False]])"
      ]
     },
     "execution_count": 435,
     "metadata": {},
     "output_type": "execute_result"
    }
   ],
   "source": [
    "previsoes = np.array(previsoes > 0.5)\n",
    "previsoes"
   ]
  },
  {
   "cell_type": "code",
   "execution_count": 436,
   "metadata": {},
   "outputs": [
    {
     "data": {
      "text/plain": [
       "array([[7356,   12],\n",
       "       [ 132,   73]], dtype=int64)"
      ]
     },
     "execution_count": 436,
     "metadata": {},
     "output_type": "execute_result"
    }
   ],
   "source": [
    "matriz = confusion_matrix(classe, previsoes)\n",
    "matriz"
   ]
  },
  {
   "cell_type": "code",
   "execution_count": 370,
   "metadata": {},
   "outputs": [
    {
     "data": {
      "image/png": "[encoded data removed]",
      "text/plain": [
       "<Figure size 432x288 with 2 Axes>"
      ]
     },
     "metadata": {
      "needs_background": "light"
     },
     "output_type": "display_data"
    }
   ],
   "source": [
    "sns.heatmap(matriz, annot=True);"
   ]
  },
  {
   "cell_type": "markdown",
   "metadata": {},
   "source": [
    "# Salvar o classificador"
   ]
  },
  {
   "cell_type": "code",
   "execution_count": 371,
   "metadata": {
    "scrolled": true
   },
   "outputs": [
    {
     "data": {
      "text/plain": [
       "OrderedDict([('dense0.weight',\n",
       "              tensor([[-0.6922, -0.5536, -0.8872,  ..., -0.8900, -1.0657,  0.0315],\n",
       "                      [ 0.3698, -0.7207, -1.8184,  ...,  0.9640, -0.7599,  0.0196],\n",
       "                      [ 0.1708,  0.3220, -0.2434,  ...,  0.3745,  0.3521,  0.0540],\n",
       "                      ...,\n",
       "                      [ 0.2839,  0.0203,  0.2061,  ...,  0.2985,  0.3409,  0.1020],\n",
       "                      [ 0.1802,  0.3146, -1.5327,  ...,  0.6309, -1.5903, -0.0148],\n",
       "                      [-0.3592, -0.4877,  1.1937,  ..., -0.6186, -0.2249,  0.0282]])),\n",
       "             ('dense0.bias',\n",
       "              tensor([-0.8827, -0.1979,  0.2798, -0.8947,  0.4550, -0.7666, -1.0239,  0.4550,\n",
       "                       0.5263, -0.5225,  0.0355,  0.9717,  0.6761, -0.6444, -0.7256,  0.8178,\n",
       "                       0.8082,  0.0192,  0.6330, -1.0325,  0.5921, -0.8731,  0.2530,  0.7747,\n",
       "                      -0.7848,  0.5176, -0.5615,  0.5941, -0.4274, -0.5905, -0.2891, -0.0172,\n",
       "                       0.4437, -0.5559,  0.3194,  0.8290,  0.8550,  0.3923, -0.1498, -0.0850,\n",
       "                      -0.5239, -0.2034, -0.5561, -0.3691,  0.5943, -0.6001,  0.9441, -1.6300,\n",
       "                      -1.0950,  0.3890, -0.7713, -0.5290,  1.0093,  0.2638, -0.8501,  0.3706,\n",
       "                       0.8239,  0.4327, -0.4398,  0.2155,  0.0755, -0.5087])),\n",
       "             ('dense1.weight',\n",
       "              tensor([[ 0.1399, -0.2352,  0.1029,  ..., -0.0549, -0.2017,  0.6077],\n",
       "                      [ 1.5271, -0.2722, -0.0603,  ..., -0.0862, -0.2792,  0.1514],\n",
       "                      [ 0.0021, -0.3757,  0.2102,  ..., -0.1857, -0.2997,  0.1877],\n",
       "                      ...,\n",
       "                      [-0.6299, -0.0189,  0.1773,  ..., -0.1955, -0.1332,  0.0222],\n",
       "                      [-0.8839, -0.0363, -0.1514,  ...,  0.0277, -0.1219,  0.1692],\n",
       "                      [ 1.5500, -0.1257, -0.1440,  ..., -0.0652, -0.0283,  0.1441]])),\n",
       "             ('dense1.bias',\n",
       "              tensor([-9.4453e-02, -6.5674e-01,  3.0367e-01, -2.0112e-02,  4.6678e-02,\n",
       "                      -6.3642e-01,  1.9249e-02,  1.6092e-01, -1.0315e-02, -4.1447e-01,\n",
       "                      -1.3045e-01,  3.3036e-01,  1.3654e-01,  2.9464e-02, -9.0539e-02,\n",
       "                      -2.8281e-01, -3.4287e-01, -3.7010e-02, -3.2678e-01, -5.0372e-01,\n",
       "                       2.2549e-01, -5.2139e-02, -2.6442e-01,  4.5699e-01, -8.1901e-02,\n",
       "                      -2.7671e-01,  3.8757e-01,  6.3023e-01,  2.9226e-01, -3.6925e-01,\n",
       "                       3.8650e-02, -1.6294e-01,  1.6808e-01,  1.7173e-01, -3.1909e-01,\n",
       "                       2.7803e-01,  5.1179e-01, -1.5402e-01, -5.9932e-02, -9.5601e-02,\n",
       "                      -7.0043e-02, -3.8035e-01, -3.2425e-01, -9.7066e-02,  1.6589e-01,\n",
       "                       6.6654e-01, -3.0613e-02,  5.4116e-02,  2.6699e-05,  1.1198e-01,\n",
       "                       5.5138e-02, -1.6568e-01, -3.5788e-01, -9.4044e-02,  1.3399e-02,\n",
       "                      -1.0426e-01,  3.3702e-02, -3.9296e-02, -1.1720e-01, -1.6519e-01,\n",
       "                       3.6069e-01, -6.3634e-01])),\n",
       "             ('dense2.weight',\n",
       "              tensor([[ 0.1011,  0.4464, -0.3547,  ...,  0.1624, -0.2792,  0.3412],\n",
       "                      [ 0.0619,  0.4954,  0.2278,  ...,  0.1756, -0.7228,  0.5627],\n",
       "                      [ 0.0054,  0.2334, -0.0528,  ...,  0.1729, -0.3818,  0.2142],\n",
       "                      ...,\n",
       "                      [ 0.1915, -0.2084, -0.0327,  ..., -0.1075,  0.8720, -0.2321],\n",
       "                      [ 0.2448, -0.9997, -0.1120,  ...,  0.0694, -0.1382, -0.0183],\n",
       "                      [ 0.3049,  0.7428, -0.1554,  ..., -0.0520, -0.7433,  0.9367]])),\n",
       "             ('dense2.bias',\n",
       "              tensor([ 0.0424,  0.0436,  0.5657,  0.0765, -0.2364, -0.3284,  0.0868, -0.2082,\n",
       "                      -0.2263, -0.0508,  0.2787, -0.0469,  0.0939,  0.0548, -0.3020,  0.3607,\n",
       "                      -0.5364, -0.2319, -0.3004,  0.0723, -0.1638,  0.0805,  0.5539, -0.7429,\n",
       "                       0.1983,  0.5612, -0.1229, -0.0731, -0.8445,  0.1453, -0.1431])),\n",
       "             ('dense3.weight',\n",
       "              tensor([[ 4.1422e-01,  3.6856e-04,  9.4720e-02,  7.2719e-02, -1.6218e-01,\n",
       "                       -1.3156e-01,  7.1325e-01,  1.2307e-01, -1.1773e-01, -1.7275e-01,\n",
       "                       -2.1180e-01, -4.1046e-02,  7.6456e-01,  1.1896e-01, -2.6441e-01,\n",
       "                       -4.7902e-02,  4.7704e-02, -5.8052e-02,  4.8097e-02,  1.9989e-01,\n",
       "                        1.2760e-02,  1.4677e-01, -1.2284e-01, -5.5621e-02,  1.3428e-01,\n",
       "                       -1.3409e-01, -1.3694e-01, -2.4449e-01, -1.3316e-01, -1.0642e-01,\n",
       "                        6.7943e-02],\n",
       "                      [ 8.2499e-01,  1.3348e-01,  2.6778e-02,  1.1889e-01, -4.9635e-02,\n",
       "                       -2.8197e-02,  1.2111e-01, -1.0684e-01, -3.6587e-02, -1.5960e-02,\n",
       "                       -3.2898e-02, -7.9236e-02,  1.2485e-01,  7.5231e-02,  6.8539e-03,\n",
       "                        3.1321e-02,  4.5950e-02, -1.0084e-01, -9.3247e-02, -3.7290e-02,\n",
       "                       -5.7179e-02,  7.2276e-02, -5.9392e-02,  1.6420e-01,  5.2731e-02,\n",
       "                       -6.4738e-02, -1.1297e-02, -3.8020e-02, -1.2899e-01, -3.0166e-02,\n",
       "                       -6.5826e-02],\n",
       "                      [ 7.9606e-01,  1.5739e-01,  4.3649e-02,  1.3410e-01, -4.3390e-02,\n",
       "                       -4.4455e-02,  1.0898e-01, -6.4454e-02, -2.7688e-02, -1.7416e-02,\n",
       "                       -8.5805e-02, -9.6184e-02,  1.2701e-01,  5.5602e-02,  1.7840e-02,\n",
       "                       -2.1361e-02,  6.4124e-02, -1.1273e-01, -5.6639e-02, -5.1572e-02,\n",
       "                       -6.0769e-02,  5.0460e-02, -4.4411e-02,  7.4339e-02,  6.4363e-02,\n",
       "                       -9.4139e-02, -5.9941e-02, -6.8464e-02, -8.9889e-02, -6.4274e-02,\n",
       "                       -6.3691e-02],\n",
       "                      [ 1.0842e+00,  1.7160e-01,  1.4807e-01,  1.2324e-01, -3.4393e-02,\n",
       "                       -6.3850e-02,  8.9413e-02, -3.4406e-01, -5.1661e-02, -1.6950e-01,\n",
       "                        2.2313e-02, -1.1213e-01,  1.6803e-01,  7.6083e-02,  4.4212e-03,\n",
       "                       -5.2754e-02,  2.1907e-02, -9.4676e-02, -5.8164e-02,  6.5776e-02,\n",
       "                       -9.9624e-02,  7.8268e-02, -3.8764e-02,  2.0578e-01,  3.8812e-02,\n",
       "                       -7.9116e-03, -5.6253e-02, -4.6681e-02, -6.7408e-02, -7.1406e-02,\n",
       "                       -7.0772e-02],\n",
       "                      [ 9.7870e-02,  1.2787e-02, -1.2118e-01, -6.7178e-02,  2.4831e-01,\n",
       "                        1.3506e-01, -6.2727e-02,  1.2647e-02,  2.7351e-01,  1.7235e-01,\n",
       "                        1.2589e-01, -1.2149e-01,  3.0224e-02, -3.4322e-01,  8.2369e-02,\n",
       "                       -1.4398e-02,  2.0853e-03, -2.1806e-01, -1.2299e-01,  1.4288e-02,\n",
       "                       -1.2128e-01,  5.4834e-02,  9.8802e-02,  9.9152e-02, -1.2253e-01,\n",
       "                        2.7898e-03,  1.1132e-01,  2.0996e-01,  1.9391e-01, -1.0107e-01,\n",
       "                       -1.5034e-01],\n",
       "                      [ 1.4478e-02,  4.8281e-02,  9.8895e-02,  9.6036e-02, -1.9112e-01,\n",
       "                       -1.1613e-01,  7.8578e-02, -1.1666e-01, -2.1208e-01, -2.2104e-01,\n",
       "                       -1.8817e-01,  6.0584e-02,  6.0252e-02,  3.1552e-01, -7.9024e-02,\n",
       "                        7.4798e-02,  1.9971e-02,  1.4026e-01,  7.4614e-02,  6.8486e-02,\n",
       "                        4.6870e-02, -3.8448e-02, -1.7507e-01, -1.0403e-01,  1.1795e-01,\n",
       "                       -5.1334e-02, -8.6208e-02, -2.6384e-01, -2.7180e-01,  9.9348e-02,\n",
       "                        6.4428e-02],\n",
       "                      [ 4.1592e-01, -1.2849e-01, -4.0812e-01, -6.5461e-02, -8.1398e-02,\n",
       "                       -1.4993e-01,  5.1596e-01, -8.4892e-01, -1.1489e-01, -4.1452e-01,\n",
       "                        8.1670e-02,  1.2473e-01,  3.4692e-01,  1.0596e-01, -1.1919e+00,\n",
       "                        3.6895e-01,  2.7251e-01,  1.1902e-01,  2.3377e-01,  5.2735e-01,\n",
       "                        1.2721e-01, -2.5114e-01, -2.4738e-01,  1.3241e-01,  6.0276e-01,\n",
       "                       -2.8100e-01, -2.3089e-01, -1.1084e+00, -1.7744e-01,  2.8636e-01,\n",
       "                        1.4551e-01],\n",
       "                      [ 4.4333e-02,  1.1926e-03, -4.1862e-01, -7.3629e-02,  9.5524e-02,\n",
       "                        1.0748e-01, -8.5228e-02,  1.8463e-01,  1.2223e-01,  9.5344e-02,\n",
       "                        1.4755e-01, -7.2890e-02, -6.0399e-02, -2.4737e-01,  1.8477e-02,\n",
       "                       -2.7900e-02, -4.7806e-02, -1.2290e-01, -8.4671e-03, -2.2247e-01,\n",
       "                       -5.6606e-03,  1.4885e-01,  5.6500e-02,  2.9468e-01, -1.5367e-01,\n",
       "                        6.7777e-02,  7.4568e-02,  2.2178e-01,  1.3552e-01, -1.5492e-01,\n",
       "                       -2.6728e-02],\n",
       "                      [-4.5299e-01,  1.7935e-02,  4.2733e-01, -6.5347e-03,  8.2321e-02,\n",
       "                        8.9204e-02, -4.9781e-01,  5.0699e-01,  9.8625e-02,  4.4948e-01,\n",
       "                        3.8201e-02, -1.2477e-01, -4.0796e-01, -1.1340e-01,  9.9308e-01,\n",
       "                       -2.5884e-01, -1.6794e-01, -9.7658e-02, -3.0615e-02, -4.2079e-01,\n",
       "                       -1.0480e-01,  1.4314e-01,  1.8871e-01,  6.3678e-02, -5.2340e-01,\n",
       "                        1.4954e-01,  2.6279e-01,  7.8869e-01,  1.8447e-01, -2.2266e-01,\n",
       "                       -6.7998e-02],\n",
       "                      [ 1.1939e-01,  2.8808e-01,  5.4146e-01,  3.4768e-01, -3.2144e-02,\n",
       "                       -1.4582e-02,  2.6092e-01, -8.2125e-02, -4.4622e-02, -1.2187e-01,\n",
       "                       -2.4338e-01,  3.5410e-02,  1.0798e-01,  1.4451e-01,  1.1200e-02,\n",
       "                        1.5214e-01,  2.3293e-01, -1.1734e-03, -8.4720e-03,  1.1307e-01,\n",
       "                        2.3567e-02, -8.9014e-02, -3.0600e-01, -5.8025e-01,  1.1178e-01,\n",
       "                       -2.6265e-01, -2.3324e-01, -2.1051e-01, -8.9971e-01,  1.3042e-01,\n",
       "                       -1.0928e-02],\n",
       "                      [-1.4510e-01, -1.6638e-02,  1.0368e+00, -1.2587e-02, -1.4671e-01,\n",
       "                       -7.9285e-02,  1.9232e-01, -4.7440e-01, -1.6410e-01, -2.4940e-01,\n",
       "                       -1.0906e-01,  1.2933e-01,  8.9676e-02,  2.0192e-01,  2.5078e-01,\n",
       "                       -7.6792e-02,  3.6201e-02,  1.5780e-01,  5.2011e-02,  1.6145e-01,\n",
       "                       -7.3383e-02, -2.1734e-01, -8.0518e-03, -4.8593e-01,  1.9219e-02,\n",
       "                       -9.2191e-02, -7.4158e-02, -1.7445e-01,  5.2536e-02,  2.5447e-01,\n",
       "                       -8.3631e-03],\n",
       "                      [-8.5006e-01, -1.5713e-01, -1.1119e-01, -1.2705e-01,  2.0034e-02,\n",
       "                        6.4879e-02, -9.9609e-02,  1.0304e-01,  2.0788e-02,  2.8208e-02,\n",
       "                        4.5387e-02,  1.1971e-01, -1.1523e-01, -6.5837e-02, -2.0866e-03,\n",
       "                        2.6491e-02, -5.3994e-02,  1.1744e-01,  9.5630e-02,  4.4882e-02,\n",
       "                        2.8593e-02, -7.1556e-02,  5.2985e-02, -1.4777e-01, -2.6562e-02,\n",
       "                        2.0935e-02,  6.8857e-02,  5.3511e-02,  1.0600e-01,  7.6356e-02,\n",
       "                        5.5614e-02],\n",
       "                      [-8.6855e-01, -1.5181e-01, -1.0546e-01, -1.4661e-01,  4.8924e-02,\n",
       "                        3.6153e-02, -1.2740e-01,  1.9011e-01,  2.7101e-02,  9.0085e-02,\n",
       "                       -2.5767e-02,  5.8234e-02, -1.3465e-01, -7.2189e-02, -3.1310e-02,\n",
       "                       -1.2986e-02, -1.5117e-02,  1.2283e-01,  3.8644e-02,  9.3744e-03,\n",
       "                        5.0393e-02, -6.7465e-02,  1.6857e-02, -1.6872e-01, -1.8959e-02,\n",
       "                        5.2023e-02,  5.3678e-02,  5.3671e-02,  8.5054e-02,  5.1745e-02,\n",
       "                        8.2397e-02],\n",
       "                      [ 7.3615e-01,  1.6541e-01,  8.5149e-02,  1.3270e-01, -1.3750e-02,\n",
       "                       -3.9437e-02,  1.0673e-01, -8.9138e-02, -3.5818e-02, -1.4507e-02,\n",
       "                       -2.0878e-02, -8.6215e-02,  1.1122e-01,  7.7768e-02,  5.5697e-02,\n",
       "                        1.0930e-02,  3.4214e-02, -1.1741e-01, -9.3124e-02, -4.4567e-02,\n",
       "                       -5.1977e-02,  6.3054e-02, -3.7317e-02,  1.7037e-01,  8.6257e-03,\n",
       "                       -7.9357e-02, -5.2712e-02, -6.6460e-02, -1.2512e-01, -5.1447e-02,\n",
       "                       -3.8692e-02],\n",
       "                      [-6.4651e-01, -5.6245e-01, -3.8604e-01, -4.8885e-01,  2.3413e-01,\n",
       "                        1.0816e-01, -1.7394e-01,  2.3320e-01,  6.9669e-02,  2.3080e-03,\n",
       "                        8.1174e-01, -5.4653e-01, -6.2722e-02, -1.7349e-01, -5.3360e-02,\n",
       "                       -2.9891e-01,  2.5038e-02, -5.5662e-01, -3.5654e-01,  4.6580e-02,\n",
       "                       -2.7936e-01, -1.0071e-01,  5.0383e-02,  4.7658e-01,  8.9251e-03,\n",
       "                        5.7844e-02,  3.6548e-01, -5.7080e-02,  9.0865e-01,  1.8794e-02,\n",
       "                       -4.0107e-01]])),\n",
       "             ('dense3.bias',\n",
       "              tensor([-0.0024,  0.1742,  0.1677,  0.1516, -0.4806,  0.4915,  0.2672, -0.4872,\n",
       "                      -0.0784,  0.1542,  0.3921, -0.2124, -0.1438,  0.1970,  0.3034])),\n",
       "             ('dense4.weight',\n",
       "              tensor([[-1.4718e-01, -1.9992e-01,  4.9281e-02, -8.2409e-02,  4.4882e-01,\n",
       "                       -4.3721e-01, -3.4386e-02,  3.5006e-01,  1.5128e-01, -3.3574e-01,\n",
       "                       -2.3331e-01, -8.8133e-02,  6.0595e-02, -1.4455e-01,  2.6679e-01],\n",
       "                      [-2.0479e-01, -1.4743e-01,  1.6295e-01, -1.2006e-01,  2.0923e-01,\n",
       "                       -2.2108e-01,  1.5357e-01,  1.0690e-01, -1.9532e-01, -4.0424e-01,\n",
       "                        2.0012e-02, -4.6117e-02,  3.6124e-04,  5.9491e-02,  3.3728e-01],\n",
       "                      [ 3.4244e-02, -4.4675e-01, -5.3527e-01, -5.2803e-01,  6.2687e-03,\n",
       "                        9.6857e-03, -4.5553e-02,  7.4008e-02, -1.2575e-02, -1.0892e-01,\n",
       "                       -1.0855e-01,  5.7400e-01,  3.9923e-01, -4.5599e-01,  3.4284e-02],\n",
       "                      [-3.4793e-02, -3.3649e-01, -2.3706e-01, -3.6729e-01, -1.3391e-02,\n",
       "                        5.0244e-02, -1.5190e-01, -3.6778e-02,  1.6225e-01, -4.4418e-02,\n",
       "                        1.0034e-01,  3.1983e-01,  1.6464e-01, -1.7444e-01,  7.5385e-04],\n",
       "                      [-1.5579e-01,  2.2585e-01,  1.8338e-01, -7.4945e-02,  3.4403e-01,\n",
       "                       -2.5713e-01, -1.1611e-01,  3.4627e-01,  1.5184e-01, -2.2971e-01,\n",
       "                       -7.3472e-01, -2.0788e-01, -7.8772e-02,  2.3820e-01,  2.0635e-01],\n",
       "                      [-5.6880e-02, -4.0166e-01, -4.4419e-01, -5.8735e-01, -2.8186e-02,\n",
       "                        9.6371e-04, -1.4569e-01, -3.8282e-02,  1.1876e-01, -6.7238e-02,\n",
       "                       -5.5917e-02,  5.6520e-01,  3.6761e-01, -3.4496e-01, -1.5735e-02],\n",
       "                      [-5.3329e-02, -3.1130e-01, -3.1693e-01, -4.5422e-01, -9.8866e-03,\n",
       "                        3.0709e-03, -1.3654e-01, -1.4310e-02,  7.6192e-02, -9.3083e-02,\n",
       "                       -4.9816e-02,  4.6946e-01,  2.3632e-01, -3.2558e-01,  5.7782e-02],\n",
       "                      [ 1.9340e-01,  9.6356e-03, -2.4699e-01,  2.1812e-01, -1.4817e-01,\n",
       "                        1.5653e-01,  1.1645e-01, -1.5134e-01, -7.7237e-02,  3.0670e-01,\n",
       "                        6.7812e-01,  3.8001e-02, -1.7045e-01,  1.2258e-01, -9.7222e-02],\n",
       "                      [-1.6432e-01,  3.2289e-01,  2.4395e-01, -8.6248e-03,  2.7934e-01,\n",
       "                       -2.6143e-01, -6.8391e-02,  2.5534e-01,  6.9378e-03, -2.1686e-01,\n",
       "                       -6.4526e-01, -2.4458e-01, -7.5170e-02,  2.8011e-01,  2.3901e-01],\n",
       "                      [-6.7285e-02,  3.5938e-01,  2.5733e-01,  1.7142e-02,  2.9903e-01,\n",
       "                       -2.3621e-01,  1.9875e-01,  4.9651e-02, -2.2724e-01, -1.1263e-01,\n",
       "                       -3.6413e-01, -3.5850e-01, -1.8345e-01,  4.3691e-01,  3.5720e-01],\n",
       "                      [ 1.0553e-01, -1.7467e-01, -1.3973e-01,  1.0471e-01, -3.8337e-01,\n",
       "                        3.5875e-01,  1.7419e-01, -2.6133e-01, -1.7771e-01,  2.4477e-01,\n",
       "                        6.9061e-01,  2.1600e-01,  1.1192e-01, -2.6675e-01, -1.8594e-01],\n",
       "                      [ 1.1729e-01,  2.4991e-01,  2.0474e-01,  2.3799e-01,  1.0160e-01,\n",
       "                       -8.2591e-02,  2.3927e-01,  4.7487e-02, -2.6914e-01, -1.4185e-03,\n",
       "                       -3.0044e-01, -2.6537e-01, -8.7614e-02,  9.5296e-02,  1.4108e-02],\n",
       "                      [-2.4769e-02, -3.7443e-01, -3.0287e-01, -4.1301e-01, -2.0168e-02,\n",
       "                       -9.2103e-03, -9.1491e-02,  2.7108e-02,  9.0626e-02, -1.1071e-01,\n",
       "                        4.9129e-02,  4.3922e-01,  2.2866e-01, -2.7864e-01,  2.4116e-02],\n",
       "                      [ 5.3064e-02,  3.3868e-01,  3.1387e-01,  3.6534e-01,  1.8880e-02,\n",
       "                       -6.1511e-02,  2.0131e-01,  3.1435e-02, -1.8785e-01,  8.5638e-02,\n",
       "                       -1.5805e-01, -3.0354e-01, -1.9687e-01,  2.1070e-01, -1.4736e-02],\n",
       "                      [-2.4828e-01,  3.8091e-01,  7.8645e-02, -1.4076e-01,  4.4829e-01,\n",
       "                       -4.2396e-01, -1.6729e-01,  3.5437e-01,  2.2827e-01, -3.5187e-01,\n",
       "                       -8.8505e-01, -1.6595e-01, -4.4605e-02,  2.1089e-01,  1.0072e-01],\n",
       "                      [-6.7366e-02,  2.7339e-01,  3.6926e-01,  3.1062e-02,  2.1353e-01,\n",
       "                       -1.3214e-01,  2.5744e-01,  1.1609e-01, -2.1711e-01, -2.1686e-01,\n",
       "                       -2.9924e-01, -3.3123e-01, -2.8866e-02,  3.5907e-01,  2.8240e-01],\n",
       "                      [-2.4308e-01, -1.7140e-01,  9.3007e-02, -1.1929e-01,  2.5623e-01,\n",
       "                       -2.4863e-01,  9.4777e-02,  1.0131e-01, -2.0038e-01, -3.6952e-01,\n",
       "                       -1.5333e-02,  7.0000e-02,  7.4269e-02, -3.3366e-02,  3.0221e-01],\n",
       "                      [-9.1516e-02, -3.2703e-01, -2.5118e-01, -3.1037e-01, -8.2310e-02,\n",
       "                        4.1547e-02, -2.4861e-01, -6.7016e-02,  2.3838e-01, -7.3558e-03,\n",
       "                        2.6641e-01,  2.4852e-01,  1.5699e-01, -1.6368e-01, -2.7975e-02],\n",
       "                      [ 2.5286e-01,  5.5966e-02, -2.5254e-01,  7.8925e-02, -2.2827e-01,\n",
       "                        2.3328e-01, -1.7409e-01, -4.5589e-02,  1.1884e-01,  4.5082e-01,\n",
       "                       -2.5648e-02,  4.8357e-02, -6.5526e-02, -2.0666e-02, -3.6631e-01],\n",
       "                      [ 8.4050e-02,  2.6884e-01,  2.2891e-01,  2.8628e-01,  6.8428e-02,\n",
       "                       -3.8493e-02,  2.4807e-01,  6.1973e-02, -2.0002e-01,  8.5650e-03,\n",
       "                       -2.2221e-01, -2.8205e-01, -2.1207e-01,  1.1899e-01,  2.0117e-02],\n",
       "                      [-9.9125e-02, -2.3816e-01, -2.3063e-01, -2.7642e-01, -9.2366e-02,\n",
       "                        6.3342e-02, -2.5400e-01, -8.7309e-02,  2.8137e-01, -2.0187e-02,\n",
       "                        2.4809e-01,  2.5602e-01,  1.6010e-01, -1.0142e-01, -4.4094e-02],\n",
       "                      [ 7.0262e-02,  2.8779e-01,  2.4406e-01,  3.2254e-01,  7.2102e-02,\n",
       "                       -3.9955e-02,  1.8526e-01,  1.8053e-02, -2.0289e-01, -8.4281e-04,\n",
       "                       -1.8125e-01, -3.1680e-01, -1.9810e-01,  1.6299e-01,  4.0057e-02],\n",
       "                      [ 3.1164e-02,  2.7611e-01,  3.0705e-01,  3.5821e-01,  8.4869e-02,\n",
       "                       -3.2963e-02,  1.8134e-01, -3.7858e-03, -1.8369e-01,  5.9845e-02,\n",
       "                       -1.3813e-01, -3.7192e-01, -1.9168e-01,  2.0733e-01, -8.6944e-03],\n",
       "                      [ 4.3996e-02,  3.5141e-01,  3.2888e-01,  4.2877e-01,  3.0605e-02,\n",
       "                       -1.3579e-02,  1.7065e-01, -1.1537e-02, -1.0851e-01,  7.4885e-02,\n",
       "                       -5.6211e-02, -4.3330e-01, -2.4545e-01,  2.1072e-01, -2.7653e-02],\n",
       "                      [ 8.4369e-02, -5.1028e-01, -1.5667e-01, -8.9288e-03, -3.7141e-01,\n",
       "                        2.6494e-01,  2.0239e-02, -2.1967e-01, -2.5704e-02,  8.1720e-02,\n",
       "                        9.0208e-01,  2.3774e-01,  1.6152e-01, -4.1262e-01, -1.7703e-01],\n",
       "                      [-1.3122e-02, -4.5526e-01, -4.8722e-01, -5.2028e-01,  6.7850e-03,\n",
       "                       -5.1666e-02, -9.3794e-02,  4.9669e-02,  7.2797e-02, -1.2316e-01,\n",
       "                       -5.7600e-02,  5.8551e-01,  4.0254e-01, -4.7563e-01,  3.5732e-02],\n",
       "                      [ 1.7116e-01,  3.5351e-01, -1.4070e-01,  1.4090e-01, -3.6338e-01,\n",
       "                        4.9710e-01, -6.0113e-02, -3.7233e-01,  1.1284e-02,  5.2308e-01,\n",
       "                        2.1628e-01, -8.5062e-03, -1.4583e-01,  2.2581e-01, -2.7005e-01],\n",
       "                      [-1.4963e-02,  3.4555e-01,  3.3288e-01,  3.6868e-01, -1.5239e-02,\n",
       "                        9.6881e-03,  3.4275e-02, -3.0457e-02,  4.4072e-03,  1.0996e-01,\n",
       "                        9.6101e-02, -4.9409e-01, -3.3746e-01,  5.1856e-01, -6.1859e-02],\n",
       "                      [ 6.2457e-02,  5.0194e-01,  6.2199e-01,  6.3297e-01, -3.5138e-02,\n",
       "                        7.4655e-02,  1.0035e-01,  7.7458e-03, -4.1870e-02,  1.3371e-01,\n",
       "                        8.9991e-02, -6.4256e-01, -4.8741e-01,  4.6094e-01, -5.2594e-02],\n",
       "                      [-1.1567e-01, -2.3132e-01, -3.7135e-01, -4.6167e-01,  2.2824e-02,\n",
       "                       -1.2577e-02, -1.5014e-01,  6.2392e-03,  1.2169e-01, -7.5160e-02,\n",
       "                       -5.9492e-02,  4.2667e-01,  2.9257e-01, -3.2131e-01,  3.0697e-02],\n",
       "                      [ 6.4915e-02,  1.1337e-01,  1.4588e-01,  2.4742e-01, -1.2399e-01,\n",
       "                        1.9703e-01, -3.3273e-02, -9.3730e-02,  4.2083e-02,  2.1698e-01,\n",
       "                        5.3392e-02, -2.6029e-01, -1.7462e-01,  3.4802e-01, -2.0565e-01]])),\n",
       "             ('dense4.bias',\n",
       "              tensor([-0.3257, -0.1087, -0.0540,  0.0299, -0.2313, -0.0414, -0.0034,  0.0741,\n",
       "                      -0.1232, -0.1659,  0.1333, -0.0701, -0.0230, -0.0497, -0.2121, -0.0936,\n",
       "                      -0.0769,  0.0956,  0.0958, -0.0577,  0.1043, -0.0631, -0.0586, -0.0476,\n",
       "                       0.1083,  0.0078,  0.2832,  0.0736,  0.0418,  0.0704,  0.0550])),\n",
       "             ('dense5.weight',\n",
       "              tensor([[ 0.0488,  0.0148, -0.1575,  ...,  0.2965, -0.1306,  0.0112],\n",
       "                      [-1.0892, -0.7496,  0.1576,  ..., -0.0956, -0.0086,  0.5728],\n",
       "                      [ 0.0031, -0.0082, -0.0522,  ..., -0.0028,  0.0507, -0.0091],\n",
       "                      ...,\n",
       "                      [ 0.0771,  0.0881, -0.0636,  ...,  0.0505,  0.0316, -0.0909],\n",
       "                      [ 0.0424,  0.0284, -0.1031,  ...,  0.1640, -0.0526, -0.0218],\n",
       "                      [ 0.0489,  0.0599, -0.1867,  ...,  0.1832, -0.0844, -0.0516]])),\n",
       "             ('dense5.bias',\n",
       "              tensor([ 0.0368,  0.1231,  0.1077,  0.0791, -0.0735, -0.0983,  0.2148,  0.0066,\n",
       "                      -0.1206, -0.1288,  0.1916, -0.0762, -0.0569, -0.0289,  0.3146,  0.3091,\n",
       "                      -0.0192, -0.0060,  0.1858, -0.0126, -0.0732, -0.0322, -0.0203,  0.1115,\n",
       "                       0.1609, -0.1464, -0.1928, -0.2609, -0.1361,  0.0026, -0.3283, -0.2806,\n",
       "                       0.0981, -0.0107, -0.1371, -0.1144,  0.2834, -0.1741, -0.3120,  0.0180,\n",
       "                      -0.2839, -0.1555,  0.0197, -0.1324, -0.0059, -0.0259,  0.2162, -0.1046,\n",
       "                      -0.2934, -0.0126,  0.2481,  0.1173,  0.0555,  0.2244,  0.0205,  0.0316,\n",
       "                      -0.0992, -0.0518, -0.0557, -0.0398,  0.0365, -0.0907])),\n",
       "             ('dense6.weight',\n",
       "              tensor([[-9.8142e-02, -8.0292e-02,  1.7510e-04,  1.8365e-01,  1.1567e-01,\n",
       "                        8.4538e-02, -7.4148e-02, -1.8533e-01,  8.3095e-02,  1.8565e-03,\n",
       "                       -1.5789e-01, -2.1268e-04,  8.7856e-02, -1.2532e-01, -3.3113e-01,\n",
       "                        1.1456e-01, -1.5597e-01, -7.6290e-02, -8.3614e-02,  1.7926e-01,\n",
       "                        4.5406e-03, -1.4818e-01,  1.4464e-01, -9.8121e-02, -9.0646e-02,\n",
       "                        8.9807e-02,  8.5489e-02, -9.1715e-02,  1.1191e-01,  1.8798e-01,\n",
       "                       -1.2445e-01, -5.9565e-01, -9.7658e-02, -1.2631e-01,  7.7910e-02,\n",
       "                        1.1161e-01,  1.0949e-01,  6.6358e-02, -1.1515e-01, -1.1440e-01,\n",
       "                       -8.8441e-02,  7.7733e-02, -9.2473e-02,  1.0038e-01, -1.1833e-01,\n",
       "                        5.0527e-02,  1.0478e-02,  1.2157e-01,  4.3026e-01,  1.9129e-03,\n",
       "                       -5.3421e-02, -9.0619e-02, -1.6657e-01, -7.5279e-02, -1.1930e-01,\n",
       "                       -6.2433e-02,  9.6112e-02,  6.8599e-02,  1.0069e-01, -1.6238e-01,\n",
       "                       -6.1256e-02, -2.0369e-01]])),\n",
       "             ('dense6.bias', tensor([-0.5618]))])"
      ]
     },
     "execution_count": 371,
     "metadata": {},
     "output_type": "execute_result"
    }
   ],
   "source": [
    "classificador.state_dict()"
   ]
  },
  {
   "cell_type": "code",
   "execution_count": 372,
   "metadata": {},
   "outputs": [],
   "source": [
    "torch.save(classificador.state_dict(), 'checkpoint.pth')"
   ]
  },
  {
   "cell_type": "markdown",
   "metadata": {},
   "source": [
    "# Carregar o Classificador"
   ]
  },
  {
   "cell_type": "code",
   "execution_count": 120,
   "metadata": {},
   "outputs": [],
   "source": [
    "import pandas as pd\n",
    "import numpy as np\n",
    "import torch\n",
    "import torch.nn as nn\n",
    "import torch.nn.functional as F\n",
    "from sklearn.metrics import accuracy_score"
   ]
  },
  {
   "cell_type": "code",
   "execution_count": 121,
   "metadata": {},
   "outputs": [
    {
     "data": {
      "text/plain": [
       "<torch._C.Generator at 0x200c2a7b170>"
      ]
     },
     "execution_count": 121,
     "metadata": {},
     "output_type": "execute_result"
    }
   ],
   "source": [
    "np.random.seed(123)\n",
    "torch.manual_seed(123)"
   ]
  },
  {
   "cell_type": "code",
   "execution_count": 122,
   "metadata": {},
   "outputs": [],
   "source": [
    "class classificador_torch(nn.Module):\n",
    "    def __init__(self):\n",
    "        super().__init__()\n",
    "        self.dense0 = nn.Linear(61, 62)\n",
    "        torch.nn.init.normal_(self.dense0.weight, mean = 0.0, std= 0.05)\n",
    "        self.activation0 = torch.tanh\n",
    "        self.Dropout0 = nn.Dropout(0.2)\n",
    "        \n",
    "        self.dense1 = nn.Linear(62, 62)\n",
    "        torch.nn.init.normal_(self.dense1.weight, mean = 0.0, std= 0.05)\n",
    "        self.activation1 = torch.tanh\n",
    "        self.Dropout1 = nn.Dropout(0.2)\n",
    "\n",
    "        self.dense2 = nn.Linear(62, 31)\n",
    "        torch.nn.init.normal_(self.dense2.weight, mean = 0.0, std= 0.05)\n",
    "        self.activation2 = torch.tanh\n",
    "        self.Dropout2 = nn.Dropout(0.2)\n",
    "\n",
    "        self.dense3 = nn.Linear(31, 62)\n",
    "        torch.nn.init.normal_(self.dense3.weight, mean = 0.0, std= 0.05)\n",
    "        self.activation3 = torch.tanh\n",
    "        self.Dropout3 = nn.Dropout(0.2)\n",
    "        \n",
    "        self.dense4 = nn.Linear(62, 1)\n",
    "        torch.nn.init.normal_(self.dense4.weight, mean = 0.0, std= 0.05)\n",
    "        self.activation4 = nn.Sigmoid()\n",
    "    def forward(self, X):\n",
    "        X = self.dense0(X)\n",
    "        X = self.activation0(X)\n",
    "        X = self.Dropout0(X) \n",
    "        X = self.dense1(X)\n",
    "        X = self.activation1(X)\n",
    "        X = self.Dropout1(X)\n",
    "        X = self.dense2(X)\n",
    "        X = self.activation2(X)\n",
    "        X = self.Dropout2(X)\n",
    "        X = self.dense3(X)\n",
    "        X = self.activation3(X)\n",
    "        X = self.Dropout3(X)\n",
    "        X = self.dense4(X)\n",
    "        X = self.activation4(X)\n",
    "        return X"
   ]
  },
  {
   "cell_type": "code",
   "execution_count": 123,
   "metadata": {},
   "outputs": [],
   "source": [
    "classificador = classificador_torch()"
   ]
  },
  {
   "cell_type": "code",
   "execution_count": 124,
   "metadata": {},
   "outputs": [],
   "source": [
    "state_dict = torch.load('checkpoint.pth')"
   ]
  },
  {
   "cell_type": "code",
   "execution_count": 125,
   "metadata": {},
   "outputs": [
    {
     "data": {
      "text/plain": [
       "<All keys matched successfully>"
      ]
     },
     "execution_count": 125,
     "metadata": {},
     "output_type": "execute_result"
    }
   ],
   "source": [
    "classificador.load_state_dict(state_dict)"
   ]
  },
  {
   "cell_type": "markdown",
   "metadata": {},
   "source": [
    "## Classifica"
   ]
  },
  {
   "cell_type": "code",
   "execution_count": 148,
   "metadata": {},
   "outputs": [
    {
     "data": {
      "text/plain": [
       "(21160, 61)"
      ]
     },
     "execution_count": 148,
     "metadata": {},
     "output_type": "execute_result"
    }
   ],
   "source": [
    "previsores.shape"
   ]
  },
  {
   "cell_type": "code",
   "execution_count": 191,
   "metadata": {},
   "outputs": [
    {
     "data": {
      "text/plain": [
       "numpy.ndarray"
      ]
     },
     "execution_count": 191,
     "metadata": {},
     "output_type": "execute_result"
    }
   ],
   "source": [
    "type(previsores)"
   ]
  },
  {
   "cell_type": "code",
   "execution_count": 150,
   "metadata": {},
   "outputs": [],
   "source": [
    "previsores = torch.tensor(previsores, dtype=torch.float)"
   ]
  },
  {
   "cell_type": "code",
   "execution_count": 187,
   "metadata": {
    "scrolled": true
   },
   "outputs": [],
   "source": [
    "lista = []\n",
    "for i in range(len(previsores)):\n",
    "    novo = previsores[i]\n",
    "    classificador.eval()\n",
    "    previsao = classificador(novo)\n",
    "    previsao = (previsao.detach().numpy() > 0.5)\n",
    "    previsao = str(previsao.tolist())\n",
    "    if previsao == '[False]':\n",
    "        previsao = 0\n",
    "    else:\n",
    "        previsao = 1\n",
    "    lista.append(previsao)\n",
    "#    print(previsao)"
   ]
  },
  {
   "cell_type": "code",
   "execution_count": 189,
   "metadata": {},
   "outputs": [
    {
     "data": {
      "text/plain": [
       "612"
      ]
     },
     "execution_count": 189,
     "metadata": {},
     "output_type": "execute_result"
    }
   ],
   "source": [
    "lista.index(1)"
   ]
  },
  {
   "cell_type": "code",
   "execution_count": null,
   "metadata": {},
   "outputs": [],
   "source": []
  }
 ],
 "metadata": {
  "kernelspec": {
   "display_name": "Python 3",
   "language": "python",
   "name": "python3"
  },
  "language_info": {
   "codemirror_mode": {
    "name": "ipython",
    "version": 3
   },
   "file_extension": ".py",
   "mimetype": "text/x-python",
   "name": "python",
   "nbconvert_exporter": "python",
   "pygments_lexer": "ipython3",
   "version": "3.7.1"
  }
 },
 "nbformat": 4,
 "nbformat_minor": 2
}
